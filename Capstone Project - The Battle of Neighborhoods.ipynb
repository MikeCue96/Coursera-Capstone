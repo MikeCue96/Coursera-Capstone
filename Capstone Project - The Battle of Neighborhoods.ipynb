{
    "nbformat_minor": 1, 
    "cells": [
        {
            "source": "# Opening a New Restaurant Near University of Toronto", 
            "cell_type": "markdown", 
            "metadata": {
                "collapsed": true
            }
        }, 
        {
            "source": "_Joe and Anna are two entrepreneurs who are looking into opening a new restaurant in Toronto. They would like the restaurant to be aimed at university students since they have great ideas to provide a 'cool' environment for the youth. They already have the location of their new restaurant - a few blocks away from campus. However, they have not decided on what type of foods the new restaurant would serve (Italian, Mexican, or Chinese). They would prefer to enter business with as few direct competitors as possible. We will use Foursquare's API to help them analyze levels of competition across restaurant types so that they can decide on the cuisine of their new restaurant._", 
            "cell_type": "markdown", 
            "metadata": {}
        }, 
        {
            "execution_count": 1, 
            "cell_type": "code", 
            "metadata": {}, 
            "outputs": [
                {
                    "output_type": "stream", 
                    "name": "stdout", 
                    "text": "Fetching package metadata .............\nSolving package specifications: .\n\nPackage plan for installation in environment /opt/conda/envs/DSX-Python35:\n\nThe following NEW packages will be INSTALLED:\n\n    geographiclib: 1.49-py_0   conda-forge\n    geopy:         1.16.0-py_0 conda-forge\n\ngeographiclib- 100% |################################| Time: 0:00:00 394.73 kB/s\ngeopy-1.16.0-p 100% |################################| Time: 0:00:00 758.65 kB/s\nFetching package metadata .............\nSolving package specifications: .\n\nPackage plan for installation in environment /opt/conda/envs/DSX-Python35:\n\nThe following NEW packages will be INSTALLED:\n\n    altair:  2.2.2-py_0 conda-forge\n    branca:  0.3.0-py_0 conda-forge\n    folium:  0.5.0-py_0 conda-forge\n    vincent: 0.4.4-py_1 conda-forge\n\nbranca-0.3.0-p 100% |################################| Time: 0:00:00 807.36 kB/s\nvincent-0.4.4- 100% |################################| Time: 0:00:00 940.30 kB/s\naltair-2.2.2-p 100% |################################| Time: 0:00:00   1.04 MB/s\nfolium-0.5.0-p 100% |################################| Time: 0:00:00   1.49 MB/s\nFolium installed\nLibraries imported.\n"
                }
            ], 
            "source": "!conda install -c conda-forge geopy --yes \nfrom geopy.geocoders import Nominatim # module to convert an address into latitude and longitude values\nimport requests # library to handle requests\nimport pandas as pd # library for data analsysis\nimport numpy as np # library to handle data in a vectorized manner\nimport random # library for random number generation\n\n# libraries for displaying images\nfrom IPython.display import Image \nfrom IPython.core.display import HTML \n    \n# tranforming json file into a pandas dataframe library\nfrom pandas.io.json import json_normalize\n\n!conda install -c conda-forge folium=0.5.0 --yes\nimport folium # plotting library\n\nprint('Folium installed')\nprint('Libraries imported.')"
        }, 
        {
            "source": "__My Foursquare Credentials__", 
            "cell_type": "markdown", 
            "metadata": {}
        }, 
        {
            "execution_count": 2, 
            "cell_type": "code", 
            "metadata": {}, 
            "outputs": [
                {
                    "output_type": "stream", 
                    "name": "stdout", 
                    "text": "Your credentails:\nCLIENT_ID: TCIII2KKBPYXFSPVBJIBTCTGNI25UVKK5J5JRM0T4EFNWW00\nCLIENT_SECRET:VPOHSUULNJORJFWFDWXS2HJWPSN51IMANSGJJQM4LVKQTXF5\n"
                }
            ], 
            "source": "# The code was removed by Watson Studio for sharing."
        }, 
        {
            "source": "## Let's start by converting University of Toronto's address to its latitude and longitude coordinates.", 
            "cell_type": "markdown", 
            "metadata": {}
        }, 
        {
            "execution_count": 3, 
            "cell_type": "code", 
            "metadata": {}, 
            "outputs": [
                {
                    "output_type": "stream", 
                    "name": "stderr", 
                    "text": "/opt/conda/envs/DSX-Python35/lib/python3.5/site-packages/geopy/geocoders/osm.py:138: UserWarning: Using Nominatim with the default \"geopy/1.16.0\" `user_agent` is strongly discouraged, as it violates Nominatim's ToS https://operations.osmfoundation.org/policies/nominatim/ and may possibly cause 403 and 429 HTTP errors. Please specify a custom `user_agent` with `Nominatim(user_agent=\"my-application\")` or by overriding the default `user_agent`: `geopy.geocoders.options.default_user_agent = \"my-application\"`. In geopy 2.0 this will become an exception.\n  UserWarning\n"
                }, 
                {
                    "output_type": "stream", 
                    "name": "stdout", 
                    "text": "43.6607225 -79.3959198095151\n"
                }
            ], 
            "source": "address = \"27 King's College Cir, Toronto, Canada\"\n\ngeolocator = Nominatim()\nlocation = geolocator.geocode(address)\nlatitude = location.latitude\nlongitude = location.longitude\nprint(latitude, longitude)"
        }, 
        {
            "source": "## Search for Nearby Restaurant Categories", 
            "cell_type": "markdown", 
            "metadata": {}
        }, 
        {
            "source": "**Italian**", 
            "cell_type": "markdown", 
            "metadata": {}
        }, 
        {
            "execution_count": 4, 
            "cell_type": "code", 
            "metadata": {}, 
            "outputs": [
                {
                    "output_type": "stream", 
                    "name": "stdout", 
                    "text": "Italian .... OK!\n"
                }
            ], 
            "source": "search_query_italian = 'Italian'\nradius = 800\nprint(search_query_italian + ' .... OK!')"
        }, 
        {
            "source": "**Mexican**", 
            "cell_type": "markdown", 
            "metadata": {}
        }, 
        {
            "execution_count": 5, 
            "cell_type": "code", 
            "metadata": {}, 
            "outputs": [
                {
                    "output_type": "stream", 
                    "name": "stdout", 
                    "text": "Mexican .... OK!\n"
                }
            ], 
            "source": "search_query_mexican = 'Mexican'\nradius = 800\nprint(search_query_mexican + ' .... OK!')"
        }, 
        {
            "source": "**Chinese**", 
            "cell_type": "markdown", 
            "metadata": {}
        }, 
        {
            "execution_count": 6, 
            "cell_type": "code", 
            "metadata": {}, 
            "outputs": [
                {
                    "output_type": "stream", 
                    "name": "stdout", 
                    "text": "Chinese .... OK!\n"
                }
            ], 
            "source": "search_query_chinese = 'Chinese'\nradius = 800\nprint(search_query_chinese + ' .... OK!')"
        }, 
        {
            "source": "## Define URL", 
            "cell_type": "markdown", 
            "metadata": {}
        }, 
        {
            "source": "**URL Italian**", 
            "cell_type": "markdown", 
            "metadata": {}
        }, 
        {
            "execution_count": 7, 
            "cell_type": "code", 
            "metadata": {}, 
            "outputs": [], 
            "source": "url_italian = 'https://api.foursquare.com/v2/venues/search?client_id={}&client_secret={}&ll={},{}&v={}&query={}&radius={}&limit={}'.format(CLIENT_ID, CLIENT_SECRET, latitude, longitude, VERSION, search_query_italian, radius, LIMIT)"
        }, 
        {
            "source": "**URL Mexican**", 
            "cell_type": "markdown", 
            "metadata": {}
        }, 
        {
            "execution_count": 8, 
            "cell_type": "code", 
            "metadata": {}, 
            "outputs": [], 
            "source": "url_mexican = 'https://api.foursquare.com/v2/venues/search?client_id={}&client_secret={}&ll={},{}&v={}&query={}&radius={}&limit={}'.format(CLIENT_ID, CLIENT_SECRET, latitude, longitude, VERSION, search_query_mexican, radius, LIMIT)"
        }, 
        {
            "source": "**URL Chinese**", 
            "cell_type": "markdown", 
            "metadata": {}
        }, 
        {
            "execution_count": 9, 
            "cell_type": "code", 
            "metadata": {}, 
            "outputs": [], 
            "source": "url_chinese = 'https://api.foursquare.com/v2/venues/search?client_id={}&client_secret={}&ll={},{}&v={}&query={}&radius={}&limit={}'.format(CLIENT_ID, CLIENT_SECRET, latitude, longitude, VERSION, search_query_chinese, radius, LIMIT)"
        }, 
        {
            "source": "## Examine Results", 
            "cell_type": "markdown", 
            "metadata": {}
        }, 
        {
            "source": "**Results Italian**", 
            "cell_type": "markdown", 
            "metadata": {}
        }, 
        {
            "execution_count": 10, 
            "cell_type": "code", 
            "metadata": {}, 
            "outputs": [], 
            "source": "results_italian = requests.get(url_italian).json()\n#results_italian"
        }, 
        {
            "source": "**Results Mexican**", 
            "cell_type": "markdown", 
            "metadata": {}
        }, 
        {
            "execution_count": 11, 
            "cell_type": "code", 
            "metadata": {}, 
            "outputs": [], 
            "source": "results_mexican = requests.get(url_mexican).json()\n#results_mexican"
        }, 
        {
            "source": "**Results Chinese**", 
            "cell_type": "markdown", 
            "metadata": {}
        }, 
        {
            "execution_count": 12, 
            "cell_type": "code", 
            "metadata": {}, 
            "outputs": [], 
            "source": "results_chinese = requests.get(url_chinese).json()\n#results_chinese"
        }, 
        {
            "source": "## Transform into Dataframe", 
            "cell_type": "markdown", 
            "metadata": {}
        }, 
        {
            "source": "**Italian Dataframe**", 
            "cell_type": "markdown", 
            "metadata": {}
        }, 
        {
            "execution_count": 16, 
            "cell_type": "code", 
            "metadata": {}, 
            "outputs": [], 
            "source": "venues_italian = results_italian['response']['venues']\n\n# tranform venues_italian into a dataframe\ndataframe_italian = json_normalize(venues_italian)\n#dataframe_italian.head()"
        }, 
        {
            "source": "**Mexican Dataframe**", 
            "cell_type": "markdown", 
            "metadata": {}
        }, 
        {
            "execution_count": 17, 
            "cell_type": "code", 
            "metadata": {}, 
            "outputs": [], 
            "source": "venues_mexican = results_mexican['response']['venues']\n\n# tranform venues_mexican into a dataframe\ndataframe_mexican = json_normalize(venues_mexican)\n#dataframe_mexican.head()"
        }, 
        {
            "source": "**Chinese Dataframe**", 
            "cell_type": "markdown", 
            "metadata": {}
        }, 
        {
            "execution_count": 18, 
            "cell_type": "code", 
            "metadata": {}, 
            "outputs": [], 
            "source": "venues_chinese = results_chinese['response']['venues']\n\n# tranform venues_chinese into a dataframe\ndataframe_chinese = json_normalize(venues_chinese)\n#dataframe_chinese.head()"
        }, 
        {
            "source": "## Define information of interest and filter dataframe", 
            "cell_type": "markdown", 
            "metadata": {}
        }, 
        {
            "execution_count": 19, 
            "cell_type": "code", 
            "metadata": {}, 
            "outputs": [], 
            "source": "# function that extracts the category of the venue\ndef get_category_type(row):\n    try:\n        categories_list = row['categories']\n    except:\n        categories_list = row['venue.categories']\n        \n    if len(categories_list) == 0:\n        return None\n    else:\n        return categories_list[0]['name']"
        }, 
        {
            "source": "**Italian Filtered DF**", 
            "cell_type": "markdown", 
            "metadata": {}
        }, 
        {
            "execution_count": 20, 
            "cell_type": "code", 
            "metadata": {}, 
            "outputs": [], 
            "source": "# keep only columns that include venue name, and anything that is associated with location\nfiltered_columns_italian = ['name', 'categories'] + [col for col in dataframe_italian.columns if col.startswith('location.')] + ['id']\ndataframe_filtered_italian = dataframe_italian.loc[:, filtered_columns_italian]\n\n# filter the category for each row\ndataframe_filtered_italian['categories'] = dataframe_filtered_italian.apply(get_category_type, axis=1)\n\n# clean column names by keeping only last term\ndataframe_filtered_italian.columns = [column.split('.')[-1] for column in dataframe_filtered_italian.columns]\ndataframe_filtered_italian = dataframe_filtered_italian.drop(dataframe_filtered_italian.index[[-1,1,2]])\n#dataframe_filtered_italian"
        }, 
        {
            "source": "**Mexican Filtered DF**", 
            "cell_type": "markdown", 
            "metadata": {}
        }, 
        {
            "execution_count": 21, 
            "cell_type": "code", 
            "metadata": {}, 
            "outputs": [], 
            "source": "# keep only columns that include venue name, and anything that is associated with location\nfiltered_columns_mexican = ['name', 'categories'] + [col for col in dataframe_mexican.columns if col.startswith('location.')] + ['id']\ndataframe_filtered_mexican = dataframe_mexican.loc[:, filtered_columns_mexican]\n\n# filter the category for each row\ndataframe_filtered_mexican['categories'] = dataframe_filtered_mexican.apply(get_category_type, axis=1)\n\n# clean column names by keeping only last term\ndataframe_filtered_mexican.columns = [column.split('.')[-1] for column in dataframe_filtered_mexican.columns]\ndataframe_filtered_mexican = dataframe_filtered_mexican.drop(dataframe_filtered_mexican.index[[3,4]])\n\n#dataframe_filtered_mexican"
        }, 
        {
            "source": "**Chinese Filtered DF**", 
            "cell_type": "markdown", 
            "metadata": {}
        }, 
        {
            "execution_count": 22, 
            "cell_type": "code", 
            "metadata": {}, 
            "outputs": [], 
            "source": "# keep only columns that include venue name, and anything that is associated with location\nfiltered_columns_chinese = ['name', 'categories'] + [col for col in dataframe_chinese.columns if col.startswith('location.')] + ['id']\ndataframe_filtered_chinese = dataframe_chinese.loc[:, filtered_columns_chinese]\n\n# filter the category for each row\ndataframe_filtered_chinese['categories'] = dataframe_filtered_chinese.apply(get_category_type, axis=1)\n\n# clean column names by keeping only last term\ndataframe_filtered_chinese.columns = [column.split('.')[-1] for column in dataframe_filtered_chinese.columns]\ndataframe_filtered_chinese = dataframe_filtered_chinese.drop(dataframe_filtered_chinese.index[[0,3,6,10,11,12,13]])\n\n#dataframe_filtered_chinese"
        }, 
        {
            "source": "### Visualize Nearby Restaurants", 
            "cell_type": "markdown", 
            "metadata": {}
        }, 
        {
            "source": "_Now we will visualize the density of the three types of restaurants in an 800-meter radius from campus._", 
            "cell_type": "markdown", 
            "metadata": {}
        }, 
        {
            "source": "_The red mark represents University of Toronto, while blue, green, and purple marks signal Italian, Mexican, and Chinese restaurants, respectively_", 
            "cell_type": "markdown", 
            "metadata": {}
        }, 
        {
            "execution_count": 23, 
            "cell_type": "code", 
            "metadata": {}, 
            "outputs": [
                {
                    "execution_count": 23, 
                    "metadata": {}, 
                    "data": {
                        "text/html": "<div style=\"width:100%;\"><div style=\"position:relative;width:100%;height:0;padding-bottom:60%;\"><iframe src=\"data:text/html;charset=utf-8;base64,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\" style=\"position:absolute;width:100%;height:100%;left:0;top:0;border:none !important;\" allowfullscreen webkitallowfullscreen mozallowfullscreen></iframe></div></div>", 
                        "text/plain": "<folium.folium.Map at 0x7f59163600f0>"
                    }, 
                    "output_type": "execute_result"
                }
            ], 
            "source": "\nvenues_map = folium.Map(location=[latitude, longitude], zoom_start=14) # generate map centred around the Conrad Hotel\n\n# add a red circle marker to represent the University of Toronto\nfolium.features.CircleMarker(\n    [latitude, longitude],\n    radius=10,\n    color='red',\n    popup='University of Toronto',\n    fill = True,\n    fill_color = 'red',\n    fill_opacity = 0.6\n).add_to(venues_map)\n\n# add the Italian restaurants as blue circle markers\nfor lat, lng, label in zip(dataframe_filtered_italian.lat, dataframe_filtered_italian.lng, dataframe_filtered_italian.categories):\n    folium.features.CircleMarker(\n        [lat, lng],\n        radius=5,\n        color='navy',\n        popup=label,\n        fill = True,\n        fill_color='navy',\n        fill_opacity=0.6\n    ).add_to(venues_map)\n\n# add the Mexican restaurants as yellow circle markers\nfor lat, lng, label in zip(dataframe_filtered_mexican.lat, dataframe_filtered_mexican.lng, dataframe_filtered_mexican.categories):\n    folium.features.CircleMarker(\n        [lat, lng],\n        radius=5,\n        color='green',\n        popup=label,\n        fill = True,\n        fill_color='black',\n        fill_opacity=0.6\n    ).add_to(venues_map)\n\n# add the Chinese restaurants as purple circle markers\nfor lat, lng, label in zip(dataframe_filtered_chinese.lat, dataframe_filtered_chinese.lng, dataframe_filtered_chinese.categories):\n    folium.features.CircleMarker(\n        [lat, lng],\n        radius=5,\n        color='purple',\n        popup=label,\n        fill = True,\n        fill_color='purple',\n        fill_opacity=0.6\n    ).add_to(venues_map)\n    \n# display map\nvenues_map"
        }, 
        {
            "source": "_As shown in the previous map, the highest level of competition falls in **Chinese** cuisine - by a clear margin. Thus, Joe and Anna will further consider only two types of cuisine for their new restaurant: **Italian and Mexican**_", 
            "cell_type": "markdown", 
            "metadata": {}
        }, 
        {
            "source": "**The following map shows locations only for Italian (blue) and Mexican (green) restaurants around University of Toronto (red).**", 
            "cell_type": "markdown", 
            "metadata": {}
        }, 
        {
            "execution_count": 24, 
            "cell_type": "code", 
            "metadata": {}, 
            "outputs": [
                {
                    "execution_count": 24, 
                    "metadata": {}, 
                    "data": {
                        "text/html": "<div style=\"width:100%;\"><div style=\"position:relative;width:100%;height:0;padding-bottom:60%;\"><iframe src=\"data:text/html;charset=utf-8;base64,PCFET0NUWVBFIGh0bWw+CjxoZWFkPiAgICAKICAgIDxtZXRhIGh0dHAtZXF1aXY9ImNvbnRlbnQtdHlwZSIgY29udGVudD0idGV4dC9odG1sOyBjaGFyc2V0PVVURi04IiAvPgogICAgPHNjcmlwdD5MX1BSRUZFUl9DQU5WQVMgPSBmYWxzZTsgTF9OT19UT1VDSCA9IGZhbHNlOyBMX0RJU0FCTEVfM0QgPSBmYWxzZTs8L3NjcmlwdD4KICAgIDxzY3JpcHQgc3JjPSJodHRwczovL2Nkbi5qc2RlbGl2ci5uZXQvbnBtL2xlYWZsZXRAMS4yLjAvZGlzdC9sZWFmbGV0LmpzIj48L3NjcmlwdD4KICAgIDxzY3JpcHQgc3JjPSJodHRwczovL2FqYXguZ29vZ2xlYXBpcy5jb20vYWpheC9saWJzL2pxdWVyeS8xLjExLjEvanF1ZXJ5Lm1pbi5qcyI+PC9zY3JpcHQ+CiAgICA8c2NyaXB0IHNyYz0iaHR0cHM6Ly9tYXhjZG4uYm9vdHN0cmFwY2RuLmNvbS9ib290c3RyYXAvMy4yLjAvanMvYm9vdHN0cmFwLm1pbi5qcyI+PC9zY3JpcHQ+CiAgICA8c2NyaXB0IHNyYz0iaHR0cHM6Ly9jZG5qcy5jbG91ZGZsYXJlLmNvbS9hamF4L2xpYnMvTGVhZmxldC5hd2Vzb21lLW1hcmtlcnMvMi4wLjIvbGVhZmxldC5hd2Vzb21lLW1hcmtlcnMuanMiPjwvc2NyaXB0PgogICAgPGxpbmsgcmVsPSJzdHlsZXNoZWV0IiBocmVmPSJodHRwczovL2Nkbi5qc2RlbGl2ci5uZXQvbnBtL2xlYWZsZXRAMS4yLjAvZGlzdC9sZWFmbGV0LmNzcyIvPgogICAgPGxpbmsgcmVsPSJzdHlsZXNoZWV0IiBocmVmPSJodHRwczovL21heGNkbi5ib290c3RyYXBjZG4uY29tL2Jvb3RzdHJhcC8zLjIuMC9jc3MvYm9vdHN0cmFwLm1pbi5jc3MiLz4KICAgIDxsaW5rIHJlbD0ic3R5bGVzaGVldCIgaHJlZj0iaHR0cHM6Ly9tYXhjZG4uYm9vdHN0cmFwY2RuLmNvbS9ib290c3RyYXAvMy4yLjAvY3NzL2Jvb3RzdHJhcC10aGVtZS5taW4uY3NzIi8+CiAgICA8bGluayByZWw9InN0eWxlc2hlZXQiIGhyZWY9Imh0dHBzOi8vbWF4Y2RuLmJvb3RzdHJhcGNkbi5jb20vZm9udC1hd2Vzb21lLzQuNi4zL2Nzcy9mb250LWF3ZXNvbWUubWluLmNzcyIvPgogICAgPGxpbmsgcmVsPSJzdHlsZXNoZWV0IiBocmVmPSJodHRwczovL2NkbmpzLmNsb3VkZmxhcmUuY29tL2FqYXgvbGlicy9MZWFmbGV0LmF3ZXNvbWUtbWFya2Vycy8yLjAuMi9sZWFmbGV0LmF3ZXNvbWUtbWFya2Vycy5jc3MiLz4KICAgIDxsaW5rIHJlbD0ic3R5bGVzaGVldCIgaHJlZj0iaHR0cHM6Ly9yYXdnaXQuY29tL3B5dGhvbi12aXN1YWxpemF0aW9uL2ZvbGl1bS9tYXN0ZXIvZm9saXVtL3RlbXBsYXRlcy9sZWFmbGV0LmF3ZXNvbWUucm90YXRlLmNzcyIvPgogICAgPHN0eWxlPmh0bWwsIGJvZHkge3dpZHRoOiAxMDAlO2hlaWdodDogMTAwJTttYXJnaW46IDA7cGFkZGluZzogMDt9PC9zdHlsZT4KICAgIDxzdHlsZT4jbWFwIHtwb3NpdGlvbjphYnNvbHV0ZTt0b3A6MDtib3R0b206MDtyaWdodDowO2xlZnQ6MDt9PC9zdHlsZT4KICAgIAogICAgICAgICAgICA8c3R5bGU+ICNtYXBfMWQxYmZkYjk3ODBmNDJlYmE1NDI5ZWIzMWQ4YjBjMDYgewogICAgICAgICAgICAgICAgcG9zaXRpb24gOiByZWxhdGl2ZTsKICAgICAgICAgICAgICAgIHdpZHRoIDogMTAwLjAlOwogICAgICAgICAgICAgICAgaGVpZ2h0OiAxMDAuMCU7CiAgICAgICAgICAgICAgICBsZWZ0OiAwLjAlOwogICAgICAgICAgICAgICAgdG9wOiAwLjAlOwogICAgICAgICAgICAgICAgfQogICAgICAgICAgICA8L3N0eWxlPgogICAgICAgIAo8L2hlYWQ+Cjxib2R5PiAgICAKICAgIAogICAgICAgICAgICA8ZGl2IGNsYXNzPSJmb2xpdW0tbWFwIiBpZD0ibWFwXzFkMWJmZGI5NzgwZjQyZWJhNTQyOWViMzFkOGIwYzA2IiA+PC9kaXY+CiAgICAgICAgCjwvYm9keT4KPHNjcmlwdD4gICAgCiAgICAKCiAgICAgICAgICAgIAogICAgICAgICAgICAgICAgdmFyIGJvdW5kcyA9IG51bGw7CiAgICAgICAgICAgIAoKICAgICAgICAgICAgdmFyIG1hcF8xZDFiZmRiOTc4MGY0MmViYTU0MjllYjMxZDhiMGMwNiA9IEwubWFwKAogICAgICAgICAgICAgICAgICAgICAgICAgICAgICAgICAgJ21hcF8xZDFiZmRiOTc4MGY0MmViYTU0MjllYjMxZDhiMGMwNicsCiAgICAgICAgICAgICAgICAgICAgICAgICAgICAgICAgICB7Y2VudGVyOiBbNDMuNjYwNzIyNSwtNzkuMzk1OTE5ODA5NTE1MV0sCiAgICAgICAgICAgICAgICAgICAgICAgICAgICAgICAgICB6b29tOiAxNCwKICAgICAgICAgICAgICAgICAgICAgICAgICAgICAgICAgIG1heEJvdW5kczogYm91bmRzLAogICAgICAgICAgICAgICAgICAgICAgICAgICAgICAgICAgbGF5ZXJzOiBbXSwKICAgICAgICAgICAgICAgICAgICAgICAgICAgICAgICAgIHdvcmxkQ29weUp1bXA6IGZhbHNlLAogICAgICAgICAgICAgICAgICAgICAgICAgICAgICAgICAgY3JzOiBMLkNSUy5FUFNHMzg1NwogICAgICAgICAgICAgICAgICAgICAgICAgICAgICAgICB9KTsKICAgICAgICAgICAgCiAgICAgICAgCiAgICAKICAgICAgICAgICAgdmFyIHRpbGVfbGF5ZXJfNzNmZTY3NDFmYzRiNDEwODkxYWUwZTk3ZmIxNTVhMjYgPSBMLnRpbGVMYXllcigKICAgICAgICAgICAgICAgICdodHRwczovL3tzfS50aWxlLm9wZW5zdHJlZXRtYXAub3JnL3t6fS97eH0ve3l9LnBuZycsCiAgICAgICAgICAgICAgICB7CiAgImF0dHJpYnV0aW9uIjogbnVsbCwKICAiZGV0ZWN0UmV0aW5hIjogZmFsc2UsCiAgIm1heFpvb20iOiAxOCwKICAibWluWm9vbSI6IDEsCiAgIm5vV3JhcCI6IGZhbHNlLAogICJzdWJkb21haW5zIjogImFiYyIKfQogICAgICAgICAgICAgICAgKS5hZGRUbyhtYXBfMWQxYmZkYjk3ODBmNDJlYmE1NDI5ZWIzMWQ4YjBjMDYpOwogICAgICAgIAogICAgCiAgICAgICAgICAgIHZhciBjaXJjbGVfbWFya2VyX2M2N2I0ODVjOWQzYjQ1ZGViNmRmODBmN2ZjMzBkZDg1ID0gTC5jaXJjbGVNYXJrZXIoCiAgICAgICAgICAgICAgICBbNDMuNjYwNzIyNSwtNzkuMzk1OTE5ODA5NTE1MV0sCiAgICAgICAgICAgICAgICB7CiAgImJ1YmJsaW5nTW91c2VFdmVudHMiOiB0cnVlLAogICJjb2xvciI6ICJyZWQiLAogICJkYXNoQXJyYXkiOiBudWxsLAogICJkYXNoT2Zmc2V0IjogbnVsbCwKICAiZmlsbCI6IHRydWUsCiAgImZpbGxDb2xvciI6ICJyZWQiLAogICJmaWxsT3BhY2l0eSI6IDAuNiwKICAiZmlsbFJ1bGUiOiAiZXZlbm9kZCIsCiAgImxpbmVDYXAiOiAicm91bmQiLAogICJsaW5lSm9pbiI6ICJyb3VuZCIsCiAgIm9wYWNpdHkiOiAxLjAsCiAgInJhZGl1cyI6IDEwLAogICJzdHJva2UiOiB0cnVlLAogICJ3ZWlnaHQiOiAzCn0KICAgICAgICAgICAgICAgICkuYWRkVG8obWFwXzFkMWJmZGI5NzgwZjQyZWJhNTQyOWViMzFkOGIwYzA2KTsKICAgICAgICAgICAgCiAgICAKICAgICAgICAgICAgdmFyIHBvcHVwXzIxNjhlN2QzOWNhOTRlNzZiMDMzZjU5ZmVmYzBjOTVkID0gTC5wb3B1cCh7bWF4V2lkdGg6ICczMDAnfSk7CgogICAgICAgICAgICAKICAgICAgICAgICAgICAgIHZhciBodG1sXzM1MGRiNWNhZTFlMDRlZjliZWRjMTdmNGQ2OTg4MDUwID0gJCgnPGRpdiBpZD0iaHRtbF8zNTBkYjVjYWUxZTA0ZWY5YmVkYzE3ZjRkNjk4ODA1MCIgc3R5bGU9IndpZHRoOiAxMDAuMCU7IGhlaWdodDogMTAwLjAlOyI+VW5pdmVyc2l0eSBvZiBUb3JvbnRvPC9kaXY+JylbMF07CiAgICAgICAgICAgICAgICBwb3B1cF8yMTY4ZTdkMzljYTk0ZTc2YjAzM2Y1OWZlZmMwYzk1ZC5zZXRDb250ZW50KGh0bWxfMzUwZGI1Y2FlMWUwNGVmOWJlZGMxN2Y0ZDY5ODgwNTApOwogICAgICAgICAgICAKCiAgICAgICAgICAgIGNpcmNsZV9tYXJrZXJfYzY3YjQ4NWM5ZDNiNDVkZWI2ZGY4MGY3ZmMzMGRkODUuYmluZFBvcHVwKHBvcHVwXzIxNjhlN2QzOWNhOTRlNzZiMDMzZjU5ZmVmYzBjOTVkKTsKCiAgICAgICAgICAgIAogICAgICAgIAogICAgCiAgICAgICAgICAgIHZhciBjaXJjbGVfbWFya2VyXzQ0YzM3YTJhMTgwZjQ0NmNiNzhmZmRmYWJhMGVlYjNiID0gTC5jaXJjbGVNYXJrZXIoCiAgICAgICAgICAgICAgICBbNDMuNjYzMjk5ODI5NTk2MTksLTc5LjQwMjMxNzA1Mjc4MDczXSwKICAgICAgICAgICAgICAgIHsKICAiYnViYmxpbmdNb3VzZUV2ZW50cyI6IHRydWUsCiAgImNvbG9yIjogIm5hdnkiLAogICJkYXNoQXJyYXkiOiBudWxsLAogICJkYXNoT2Zmc2V0IjogbnVsbCwKICAiZmlsbCI6IHRydWUsCiAgImZpbGxDb2xvciI6ICJuYXZ5IiwKICAiZmlsbE9wYWNpdHkiOiAwLjYsCiAgImZpbGxSdWxlIjogImV2ZW5vZGQiLAogICJsaW5lQ2FwIjogInJvdW5kIiwKICAibGluZUpvaW4iOiAicm91bmQiLAogICJvcGFjaXR5IjogMS4wLAogICJyYWRpdXMiOiA1LAogICJzdHJva2UiOiB0cnVlLAogICJ3ZWlnaHQiOiAzCn0KICAgICAgICAgICAgICAgICkuYWRkVG8obWFwXzFkMWJmZGI5NzgwZjQyZWJhNTQyOWViMzFkOGIwYzA2KTsKICAgICAgICAgICAgCiAgICAKICAgICAgICAgICAgdmFyIHBvcHVwXzE1ZTllY2JkNTA0MzRjYzJiNGJhMDFmMmE0MDRkMjY1ID0gTC5wb3B1cCh7bWF4V2lkdGg6ICczMDAnfSk7CgogICAgICAgICAgICAKICAgICAgICAgICAgICAgIHZhciBodG1sX2E0OWU4MmZiZmFmMDQ4MDg5OGNiYTQ4YzBmNDM4NWY4ID0gJCgnPGRpdiBpZD0iaHRtbF9hNDllODJmYmZhZjA0ODA4OThjYmE0OGMwZjQzODVmOCIgc3R5bGU9IndpZHRoOiAxMDAuMCU7IGhlaWdodDogMTAwLjAlOyI+UGl6emEgUGxhY2U8L2Rpdj4nKVswXTsKICAgICAgICAgICAgICAgIHBvcHVwXzE1ZTllY2JkNTA0MzRjYzJiNGJhMDFmMmE0MDRkMjY1LnNldENvbnRlbnQoaHRtbF9hNDllODJmYmZhZjA0ODA4OThjYmE0OGMwZjQzODVmOCk7CiAgICAgICAgICAgIAoKICAgICAgICAgICAgY2lyY2xlX21hcmtlcl80NGMzN2EyYTE4MGY0NDZjYjc4ZmZkZmFiYTBlZWIzYi5iaW5kUG9wdXAocG9wdXBfMTVlOWVjYmQ1MDQzNGNjMmI0YmEwMWYyYTQwNGQyNjUpOwoKICAgICAgICAgICAgCiAgICAgICAgCiAgICAKICAgICAgICAgICAgdmFyIGNpcmNsZV9tYXJrZXJfODViMGVkYjM5YjQ2NGRlNzljYjQ2YWFkMmQ1ZmQ0MjkgPSBMLmNpcmNsZU1hcmtlcigKICAgICAgICAgICAgICAgIFs0My42NTYxMjY3Mjc5ODc3NTQsLTc5LjM5MzMwMTA3MjQ1MDM4XSwKICAgICAgICAgICAgICAgIHsKICAiYnViYmxpbmdNb3VzZUV2ZW50cyI6IHRydWUsCiAgImNvbG9yIjogIm5hdnkiLAogICJkYXNoQXJyYXkiOiBudWxsLAogICJkYXNoT2Zmc2V0IjogbnVsbCwKICAiZmlsbCI6IHRydWUsCiAgImZpbGxDb2xvciI6ICJuYXZ5IiwKICAiZmlsbE9wYWNpdHkiOiAwLjYsCiAgImZpbGxSdWxlIjogImV2ZW5vZGQiLAogICJsaW5lQ2FwIjogInJvdW5kIiwKICAibGluZUpvaW4iOiAicm91bmQiLAogICJvcGFjaXR5IjogMS4wLAogICJyYWRpdXMiOiA1LAogICJzdHJva2UiOiB0cnVlLAogICJ3ZWlnaHQiOiAzCn0KICAgICAgICAgICAgICAgICkuYWRkVG8obWFwXzFkMWJmZGI5NzgwZjQyZWJhNTQyOWViMzFkOGIwYzA2KTsKICAgICAgICAgICAgCiAgICAKICAgICAgICAgICAgdmFyIHBvcHVwX2JkMjM5NmFiYTE0ZDQ1M2Y4MDgzNmNlYzJjODdjNmEwID0gTC5wb3B1cCh7bWF4V2lkdGg6ICczMDAnfSk7CgogICAgICAgICAgICAKICAgICAgICAgICAgICAgIHZhciBodG1sXzI2Y2FhZTgzMjE0NTRjZjZiOWVkMDM3MWJmYTY4OWUzID0gJCgnPGRpdiBpZD0iaHRtbF8yNmNhYWU4MzIxNDU0Y2Y2YjllZDAzNzFiZmE2ODllMyIgc3R5bGU9IndpZHRoOiAxMDAuMCU7IGhlaWdodDogMTAwLjAlOyI+SXRhbGlhbiBSZXN0YXVyYW50PC9kaXY+JylbMF07CiAgICAgICAgICAgICAgICBwb3B1cF9iZDIzOTZhYmExNGQ0NTNmODA4MzZjZWMyYzg3YzZhMC5zZXRDb250ZW50KGh0bWxfMjZjYWFlODMyMTQ1NGNmNmI5ZWQwMzcxYmZhNjg5ZTMpOwogICAgICAgICAgICAKCiAgICAgICAgICAgIGNpcmNsZV9tYXJrZXJfODViMGVkYjM5YjQ2NGRlNzljYjQ2YWFkMmQ1ZmQ0MjkuYmluZFBvcHVwKHBvcHVwX2JkMjM5NmFiYTE0ZDQ1M2Y4MDgzNmNlYzJjODdjNmEwKTsKCiAgICAgICAgICAgIAogICAgICAgIAogICAgCiAgICAgICAgICAgIHZhciBjaXJjbGVfbWFya2VyXzVlOGY0OGMyOGQ3NDQzYmFiMWY1ZjZmMjNmYmFmZTVlID0gTC5jaXJjbGVNYXJrZXIoCiAgICAgICAgICAgICAgICBbNDMuNjUzODg5LC03OS4zOTA3ODVdLAogICAgICAgICAgICAgICAgewogICJidWJibGluZ01vdXNlRXZlbnRzIjogdHJ1ZSwKICAiY29sb3IiOiAibmF2eSIsCiAgImRhc2hBcnJheSI6IG51bGwsCiAgImRhc2hPZmZzZXQiOiBudWxsLAogICJmaWxsIjogdHJ1ZSwKICAiZmlsbENvbG9yIjogIm5hdnkiLAogICJmaWxsT3BhY2l0eSI6IDAuNiwKICAiZmlsbFJ1bGUiOiAiZXZlbm9kZCIsCiAgImxpbmVDYXAiOiAicm91bmQiLAogICJsaW5lSm9pbiI6ICJyb3VuZCIsCiAgIm9wYWNpdHkiOiAxLjAsCiAgInJhZGl1cyI6IDUsCiAgInN0cm9rZSI6IHRydWUsCiAgIndlaWdodCI6IDMKfQogICAgICAgICAgICAgICAgKS5hZGRUbyhtYXBfMWQxYmZkYjk3ODBmNDJlYmE1NDI5ZWIzMWQ4YjBjMDYpOwogICAgICAgICAgICAKICAgIAogICAgICAgICAgICB2YXIgcG9wdXBfZTdlMzkxZDE1NDZiNGQwNGFhYWFjZDgwZjk3NTk3MzUgPSBMLnBvcHVwKHttYXhXaWR0aDogJzMwMCd9KTsKCiAgICAgICAgICAgIAogICAgICAgICAgICAgICAgdmFyIGh0bWxfMDcwNGE2M2IzNTE2NDQ2MzhhYTU0NDY5ZjVjNmI4NTUgPSAkKCc8ZGl2IGlkPSJodG1sXzA3MDRhNjNiMzUxNjQ0NjM4YWE1NDQ2OWY1YzZiODU1IiBzdHlsZT0id2lkdGg6IDEwMC4wJTsgaGVpZ2h0OiAxMDAuMCU7Ij5JdGFsaWFuIFJlc3RhdXJhbnQ8L2Rpdj4nKVswXTsKICAgICAgICAgICAgICAgIHBvcHVwX2U3ZTM5MWQxNTQ2YjRkMDRhYWFhY2Q4MGY5NzU5NzM1LnNldENvbnRlbnQoaHRtbF8wNzA0YTYzYjM1MTY0NDYzOGFhNTQ0NjlmNWM2Yjg1NSk7CiAgICAgICAgICAgIAoKICAgICAgICAgICAgY2lyY2xlX21hcmtlcl81ZThmNDhjMjhkNzQ0M2JhYjFmNWY2ZjIzZmJhZmU1ZS5iaW5kUG9wdXAocG9wdXBfZTdlMzkxZDE1NDZiNGQwNGFhYWFjZDgwZjk3NTk3MzUpOwoKICAgICAgICAgICAgCiAgICAgICAgCiAgICAKICAgICAgICAgICAgdmFyIGNpcmNsZV9tYXJrZXJfZTRiMGExYTE1M2ExNGEzN2JiZmMzMGY1ZGMxYWMwYWMgPSBMLmNpcmNsZU1hcmtlcigKICAgICAgICAgICAgICAgIFs0My42NTQ5OTE0Mzc0NjUyODQsLTc5LjM4Nzg5NjYyOTAwMTg5XSwKICAgICAgICAgICAgICAgIHsKICAiYnViYmxpbmdNb3VzZUV2ZW50cyI6IHRydWUsCiAgImNvbG9yIjogIm5hdnkiLAogICJkYXNoQXJyYXkiOiBudWxsLAogICJkYXNoT2Zmc2V0IjogbnVsbCwKICAiZmlsbCI6IHRydWUsCiAgImZpbGxDb2xvciI6ICJuYXZ5IiwKICAiZmlsbE9wYWNpdHkiOiAwLjYsCiAgImZpbGxSdWxlIjogImV2ZW5vZGQiLAogICJsaW5lQ2FwIjogInJvdW5kIiwKICAibGluZUpvaW4iOiAicm91bmQiLAogICJvcGFjaXR5IjogMS4wLAogICJyYWRpdXMiOiA1LAogICJzdHJva2UiOiB0cnVlLAogICJ3ZWlnaHQiOiAzCn0KICAgICAgICAgICAgICAgICkuYWRkVG8obWFwXzFkMWJmZGI5NzgwZjQyZWJhNTQyOWViMzFkOGIwYzA2KTsKICAgICAgICAgICAgCiAgICAKICAgICAgICAgICAgdmFyIHBvcHVwX2IzYTQzZDE5ZjQ0MDQ2ZTI5MjY5MDVkNmZiZGU4NDM1ID0gTC5wb3B1cCh7bWF4V2lkdGg6ICczMDAnfSk7CgogICAgICAgICAgICAKICAgICAgICAgICAgICAgIHZhciBodG1sX2E0ODc0MDFkZmYwMDRmNjM5MjM2YjA1YmE4OWY0ZDljID0gJCgnPGRpdiBpZD0iaHRtbF9hNDg3NDAxZGZmMDA0ZjYzOTIzNmIwNWJhODlmNGQ5YyIgc3R5bGU9IndpZHRoOiAxMDAuMCU7IGhlaWdodDogMTAwLjAlOyI+SXRhbGlhbiBSZXN0YXVyYW50PC9kaXY+JylbMF07CiAgICAgICAgICAgICAgICBwb3B1cF9iM2E0M2QxOWY0NDA0NmUyOTI2OTA1ZDZmYmRlODQzNS5zZXRDb250ZW50KGh0bWxfYTQ4NzQwMWRmZjAwNGY2MzkyMzZiMDViYTg5ZjRkOWMpOwogICAgICAgICAgICAKCiAgICAgICAgICAgIGNpcmNsZV9tYXJrZXJfZTRiMGExYTE1M2ExNGEzN2JiZmMzMGY1ZGMxYWMwYWMuYmluZFBvcHVwKHBvcHVwX2IzYTQzZDE5ZjQ0MDQ2ZTI5MjY5MDVkNmZiZGU4NDM1KTsKCiAgICAgICAgICAgIAogICAgICAgIAogICAgCiAgICAgICAgICAgIHZhciBjaXJjbGVfbWFya2VyX2MyZDlhZThmMzAzYTQ2NWJiMjZmOGRlODc0M2RhZmE3ID0gTC5jaXJjbGVNYXJrZXIoCiAgICAgICAgICAgICAgICBbNDMuNjU0NjU5MjcxMjQwMjM0LC03OS40MDE1NTAyOTI5Njg3NV0sCiAgICAgICAgICAgICAgICB7CiAgImJ1YmJsaW5nTW91c2VFdmVudHMiOiB0cnVlLAogICJjb2xvciI6ICJncmVlbiIsCiAgImRhc2hBcnJheSI6IG51bGwsCiAgImRhc2hPZmZzZXQiOiBudWxsLAogICJmaWxsIjogdHJ1ZSwKICAiZmlsbENvbG9yIjogImJsYWNrIiwKICAiZmlsbE9wYWNpdHkiOiAwLjYsCiAgImZpbGxSdWxlIjogImV2ZW5vZGQiLAogICJsaW5lQ2FwIjogInJvdW5kIiwKICAibGluZUpvaW4iOiAicm91bmQiLAogICJvcGFjaXR5IjogMS4wLAogICJyYWRpdXMiOiA1LAogICJzdHJva2UiOiB0cnVlLAogICJ3ZWlnaHQiOiAzCn0KICAgICAgICAgICAgICAgICkuYWRkVG8obWFwXzFkMWJmZGI5NzgwZjQyZWJhNTQyOWViMzFkOGIwYzA2KTsKICAgICAgICAgICAgCiAgICAKICAgICAgICAgICAgdmFyIHBvcHVwXzdkNmUyZTE1NzA3MDRmNWZiNmJhZmQ1ZGY1NmRhYzhjID0gTC5wb3B1cCh7bWF4V2lkdGg6ICczMDAnfSk7CgogICAgICAgICAgICAKICAgICAgICAgICAgICAgIHZhciBodG1sXzNiNWUzYzFiZWU3MDRiNTFiNGEzN2I3YmMxMDRmOTI5ID0gJCgnPGRpdiBpZD0iaHRtbF8zYjVlM2MxYmVlNzA0YjUxYjRhMzdiN2JjMTA0ZjkyOSIgc3R5bGU9IndpZHRoOiAxMDAuMCU7IGhlaWdodDogMTAwLjAlOyI+TWV4aWNhbiBSZXN0YXVyYW50PC9kaXY+JylbMF07CiAgICAgICAgICAgICAgICBwb3B1cF83ZDZlMmUxNTcwNzA0ZjVmYjZiYWZkNWRmNTZkYWM4Yy5zZXRDb250ZW50KGh0bWxfM2I1ZTNjMWJlZTcwNGI1MWI0YTM3YjdiYzEwNGY5MjkpOwogICAgICAgICAgICAKCiAgICAgICAgICAgIGNpcmNsZV9tYXJrZXJfYzJkOWFlOGYzMDNhNDY1YmIyNmY4ZGU4NzQzZGFmYTcuYmluZFBvcHVwKHBvcHVwXzdkNmUyZTE1NzA3MDRmNWZiNmJhZmQ1ZGY1NmRhYzhjKTsKCiAgICAgICAgICAgIAogICAgICAgIAogICAgCiAgICAgICAgICAgIHZhciBjaXJjbGVfbWFya2VyXzY5ZDllN2ZlNTkwYjRjYTNhMDI0N2NiYWNiNjllOWIxID0gTC5jaXJjbGVNYXJrZXIoCiAgICAgICAgICAgICAgICBbNDMuNjY1Njg0ODQ2NzkwMzksLTc5LjQwODExNjQ1OTEyMTk2XSwKICAgICAgICAgICAgICAgIHsKICAiYnViYmxpbmdNb3VzZUV2ZW50cyI6IHRydWUsCiAgImNvbG9yIjogImdyZWVuIiwKICAiZGFzaEFycmF5IjogbnVsbCwKICAiZGFzaE9mZnNldCI6IG51bGwsCiAgImZpbGwiOiB0cnVlLAogICJmaWxsQ29sb3IiOiAiYmxhY2siLAogICJmaWxsT3BhY2l0eSI6IDAuNiwKICAiZmlsbFJ1bGUiOiAiZXZlbm9kZCIsCiAgImxpbmVDYXAiOiAicm91bmQiLAogICJsaW5lSm9pbiI6ICJyb3VuZCIsCiAgIm9wYWNpdHkiOiAxLjAsCiAgInJhZGl1cyI6IDUsCiAgInN0cm9rZSI6IHRydWUsCiAgIndlaWdodCI6IDMKfQogICAgICAgICAgICAgICAgKS5hZGRUbyhtYXBfMWQxYmZkYjk3ODBmNDJlYmE1NDI5ZWIzMWQ4YjBjMDYpOwogICAgICAgICAgICAKICAgIAogICAgICAgICAgICB2YXIgcG9wdXBfM2FiOTcwMTE3ZTBmNDE0N2EwNWIwZWNkYWQxN2U4MjEgPSBMLnBvcHVwKHttYXhXaWR0aDogJzMwMCd9KTsKCiAgICAgICAgICAgIAogICAgICAgICAgICAgICAgdmFyIGh0bWxfMjQwNTMyM2VhMWFlNGU3MzhmYWQwYzkxMzhjZmM4NzUgPSAkKCc8ZGl2IGlkPSJodG1sXzI0MDUzMjNlYTFhZTRlNzM4ZmFkMGM5MTM4Y2ZjODc1IiBzdHlsZT0id2lkdGg6IDEwMC4wJTsgaGVpZ2h0OiAxMDAuMCU7Ij5NZXhpY2FuIFJlc3RhdXJhbnQ8L2Rpdj4nKVswXTsKICAgICAgICAgICAgICAgIHBvcHVwXzNhYjk3MDExN2UwZjQxNDdhMDViMGVjZGFkMTdlODIxLnNldENvbnRlbnQoaHRtbF8yNDA1MzIzZWExYWU0ZTczOGZhZDBjOTEzOGNmYzg3NSk7CiAgICAgICAgICAgIAoKICAgICAgICAgICAgY2lyY2xlX21hcmtlcl82OWQ5ZTdmZTU5MGI0Y2EzYTAyNDdjYmFjYjY5ZTliMS5iaW5kUG9wdXAocG9wdXBfM2FiOTcwMTE3ZTBmNDE0N2EwNWIwZWNkYWQxN2U4MjEpOwoKICAgICAgICAgICAgCiAgICAgICAgCiAgICAKICAgICAgICAgICAgdmFyIGNpcmNsZV9tYXJrZXJfYTA1MTY4OGQyMGIxNDA3N2IwOWFhOTVmYTVhNzIxN2IgPSBMLmNpcmNsZU1hcmtlcigKICAgICAgICAgICAgICAgIFs0My42NTQ3ODAyOTIyNjU5NiwtNzkuNDAyNDkyODQ4ODkxNDNdLAogICAgICAgICAgICAgICAgewogICJidWJibGluZ01vdXNlRXZlbnRzIjogdHJ1ZSwKICAiY29sb3IiOiAiZ3JlZW4iLAogICJkYXNoQXJyYXkiOiBudWxsLAogICJkYXNoT2Zmc2V0IjogbnVsbCwKICAiZmlsbCI6IHRydWUsCiAgImZpbGxDb2xvciI6ICJibGFjayIsCiAgImZpbGxPcGFjaXR5IjogMC42LAogICJmaWxsUnVsZSI6ICJldmVub2RkIiwKICAibGluZUNhcCI6ICJyb3VuZCIsCiAgImxpbmVKb2luIjogInJvdW5kIiwKICAib3BhY2l0eSI6IDEuMCwKICAicmFkaXVzIjogNSwKICAic3Ryb2tlIjogdHJ1ZSwKICAid2VpZ2h0IjogMwp9CiAgICAgICAgICAgICAgICApLmFkZFRvKG1hcF8xZDFiZmRiOTc4MGY0MmViYTU0MjllYjMxZDhiMGMwNik7CiAgICAgICAgICAgIAogICAgCiAgICAgICAgICAgIHZhciBwb3B1cF84YWRmMTU0MjU5YWY0ZmI5OWE5Y2I3ZDY2NDgxNWU1ZCA9IEwucG9wdXAoe21heFdpZHRoOiAnMzAwJ30pOwoKICAgICAgICAgICAgCiAgICAgICAgICAgICAgICB2YXIgaHRtbF84NDA1ZTI2NGI1MTM0Y2E4YjdkN2I4YTVlMmQwMDk4YSA9ICQoJzxkaXYgaWQ9Imh0bWxfODQwNWUyNjRiNTEzNGNhOGI3ZDdiOGE1ZTJkMDA5OGEiIHN0eWxlPSJ3aWR0aDogMTAwLjAlOyBoZWlnaHQ6IDEwMC4wJTsiPk1leGljYW4gUmVzdGF1cmFudDwvZGl2PicpWzBdOwogICAgICAgICAgICAgICAgcG9wdXBfOGFkZjE1NDI1OWFmNGZiOTlhOWNiN2Q2NjQ4MTVlNWQuc2V0Q29udGVudChodG1sXzg0MDVlMjY0YjUxMzRjYThiN2Q3YjhhNWUyZDAwOThhKTsKICAgICAgICAgICAgCgogICAgICAgICAgICBjaXJjbGVfbWFya2VyX2EwNTE2ODhkMjBiMTQwNzdiMDlhYTk1ZmE1YTcyMTdiLmJpbmRQb3B1cChwb3B1cF84YWRmMTU0MjU5YWY0ZmI5OWE5Y2I3ZDY2NDgxNWU1ZCk7CgogICAgICAgICAgICAKICAgICAgICAKPC9zY3JpcHQ+\" style=\"position:absolute;width:100%;height:100%;left:0;top:0;border:none !important;\" allowfullscreen webkitallowfullscreen mozallowfullscreen></iframe></div></div>", 
                        "text/plain": "<folium.folium.Map at 0x7f5916356a20>"
                    }, 
                    "output_type": "execute_result"
                }
            ], 
            "source": "\nvenues_map_1 = folium.Map(location=[latitude, longitude], zoom_start=14) # generate map centred around the Conrad Hotel\n\n# add a red circle marker to represent the University of Toronto\nfolium.features.CircleMarker(\n    [latitude, longitude],\n    radius=10,\n    color='red',\n    popup='University of Toronto',\n    fill = True,\n    fill_color = 'red',\n    fill_opacity = 0.6\n).add_to(venues_map_1)\n\n# add the Italian restaurants as blue circle markers\nfor lat, lng, label in zip(dataframe_filtered_italian.lat, dataframe_filtered_italian.lng, dataframe_filtered_italian.categories):\n    folium.features.CircleMarker(\n        [lat, lng],\n        radius=5,\n        color='navy',\n        popup=label,\n        fill = True,\n        fill_color='navy',\n        fill_opacity=0.6\n    ).add_to(venues_map_1)\n\n# add the Mexican restaurants as yellow circle markers\nfor lat, lng, label in zip(dataframe_filtered_mexican.lat, dataframe_filtered_mexican.lng, dataframe_filtered_mexican.categories):\n    folium.features.CircleMarker(\n        [lat, lng],\n        radius=5,\n        color='green',\n        popup=label,\n        fill = True,\n        fill_color='black',\n        fill_opacity=0.6\n    ).add_to(venues_map_1)\n\n\n    \n# display map\nvenues_map_1"
        }, 
        {
            "source": "**Competition level is slightly higher, in terms of number of competitors, among Italian restaurants - compared to Mexican restaurants. However, Joe and Anna would also like to consider the average quality of the two types of restaurants (as measured by reviews) before making a decision about what foods their new restaurant will serve.**", 
            "cell_type": "markdown", 
            "metadata": {}
        }, 
        {
            "source": "_To do this, we will retrieve the venue 'name' and 'id' of each restaurant that we found on a previous query_", 
            "cell_type": "markdown", 
            "metadata": {}
        }, 
        {
            "execution_count": 25, 
            "cell_type": "code", 
            "metadata": {}, 
            "outputs": [
                {
                    "output_type": "stream", 
                    "name": "stdout", 
                    "text": "   index                                 name                        id\n0      0  Papa Ceo Fine Italian Foods & Pizza  4ad4c05ff964a52014f720e3\n1      3                  john's italian cafe  53daae5b498e9c9597c19b23\n2      4             The Fresh Italian Eatery  526fe29411d2aeb3803013b0\n3      5                    The Fresh Italian  51bf3866498e55ee55df8db0\n"
                }
            ], 
            "source": "names_italian = dataframe_filtered_italian[['name','id']].reset_index()\nprint(names_italian)"
        }, 
        {
            "execution_count": 26, 
            "cell_type": "code", 
            "metadata": {}, 
            "outputs": [
                {
                    "output_type": "stream", 
                    "name": "stdout", 
                    "text": "   index                       name                        id\n0      0           Mexican Dry Food  4e57f282887710a8481de1f3\n1      1     Chipotle Mexican Grill  571d1c1e498e166ab267532c\n2      2  Don Taco Mexican Taqueria  51c5f916498e778c161a2420\n"
                }
            ], 
            "source": "names_mexican = dataframe_filtered_mexican[['name','id']].reset_index()\nprint(names_mexican)"
        }, 
        {
            "source": "### Italian Ratings", 
            "cell_type": "markdown", 
            "metadata": {}
        }, 
        {
            "execution_count": 27, 
            "cell_type": "code", 
            "metadata": {}, 
            "outputs": [], 
            "source": "# The code was removed by Watson Studio for sharing."
        }, 
        {
            "execution_count": 28, 
            "cell_type": "code", 
            "metadata": {}, 
            "outputs": [], 
            "source": "# The code was removed by Watson Studio for sharing."
        }, 
        {
            "execution_count": 29, 
            "cell_type": "code", 
            "metadata": {}, 
            "outputs": [
                {
                    "output_type": "stream", 
                    "name": "stdout", 
                    "text": "5.5\n"
                }
            ], 
            "source": "print(average_italian_ratings)    "
        }, 
        {
            "source": "### Mexican Ratings", 
            "cell_type": "markdown", 
            "metadata": {}
        }, 
        {
            "execution_count": 30, 
            "cell_type": "code", 
            "metadata": {}, 
            "outputs": [], 
            "source": "# The code was removed by Watson Studio for sharing."
        }, 
        {
            "execution_count": 31, 
            "cell_type": "code", 
            "metadata": {}, 
            "outputs": [
                {
                    "output_type": "stream", 
                    "name": "stdout", 
                    "text": "7.4\n"
                }
            ], 
            "source": "print(average_mexican_ratings)"
        }, 
        {
            "source": "**We can now see that, on average, Mexican restaurants around University of Toronto have a better rating than Italian restaurants in the area.**", 
            "cell_type": "markdown", 
            "metadata": {}
        }, 
        {
            "source": "_With our help, Joe and Anna have now decided what type of restaurant they will open nearby University of Toronto. They had two final options: Mexican and Italian. Joe and Anna's previous market study showed that the two cuisines are equally liked by young people (the target market of their new restaurant). There are about the same number of Italian and Mexican restaurants in the area. However, since Mexican restaurants already have good ratings given by customers, it will be more difficult to compete with them. For such reasons they will open a new Italian restaurant._", 
            "cell_type": "markdown", 
            "metadata": {}
        }, 
        {
            "execution_count": null, 
            "cell_type": "code", 
            "metadata": {}, 
            "outputs": [], 
            "source": ""
        }
    ], 
    "metadata": {
        "kernelspec": {
            "display_name": "Python 3.5", 
            "name": "python3", 
            "language": "python"
        }, 
        "language_info": {
            "mimetype": "text/x-python", 
            "nbconvert_exporter": "python", 
            "version": "3.5.5", 
            "name": "python", 
            "file_extension": ".py", 
            "pygments_lexer": "ipython3", 
            "codemirror_mode": {
                "version": 3, 
                "name": "ipython"
            }
        }
    }, 
    "nbformat": 4
}